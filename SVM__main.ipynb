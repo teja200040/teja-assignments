{
  "nbformat": 4,
  "nbformat_minor": 0,
  "metadata": {
    "kernelspec": {
      "display_name": "Python 3",
      "language": "python",
      "name": "python3"
    },
    "language_info": {
      "codemirror_mode": {
        "name": "ipython",
        "version": 3
      },
      "file_extension": ".py",
      "mimetype": "text/x-python",
      "name": "python",
      "nbconvert_exporter": "python",
      "pygments_lexer": "ipython3",
      "version": "3.7.3"
    },
    "varInspector": {
      "cols": {
        "lenName": 16,
        "lenType": 16,
        "lenVar": 40
      },
      "kernels_config": {
        "python": {
          "delete_cmd_postfix": "",
          "delete_cmd_prefix": "del ",
          "library": "var_list.py",
          "varRefreshCmd": "print(var_dic_list())"
        },
        "r": {
          "delete_cmd_postfix": ") ",
          "delete_cmd_prefix": "rm(",
          "library": "var_list.r",
          "varRefreshCmd": "cat(var_dic_list()) "
        }
      },
      "types_to_exclude": [
        "module",
        "function",
        "builtin_function_or_method",
        "instance",
        "_Feature"
      ],
      "window_display": false
    },
    "colab": {
      "name": "SVM _main.ipynb",
      "provenance": []
    },
    "accelerator": "GPU"
  },
  "cells": [
    {
      "cell_type": "code",
      "metadata": {
        "ExecuteTime": {
          "end_time": "2020-11-09T14:02:46.375760Z",
          "start_time": "2020-11-09T14:02:43.547747Z"
        },
        "id": "tKgGZlW2DPGO"
      },
      "source": [
        "# SVM Classification\n",
        "import pandas as pd\n",
        "import numpy as np\n",
        "from sklearn.preprocessing import StandardScaler\n",
        "from sklearn import svm\n",
        "from sklearn.svm import SVC\n",
        "from sklearn.model_selection import GridSearchCV\n",
        "from sklearn.metrics import classification_report\n",
        "\n",
        "\n",
        "from sklearn.metrics import accuracy_score, confusion_matrix\n",
        "from sklearn.model_selection import train_test_split, cross_val_score\n",
        "\n"
      ],
      "execution_count": 1,
      "outputs": []
    },
    {
      "cell_type": "code",
      "metadata": {
        "ExecuteTime": {
          "end_time": "2020-11-09T14:05:26.888955Z",
          "start_time": "2020-11-09T14:05:26.865222Z"
        },
        "id": "riKEX25pDPGR"
      },
      "source": [
        "filename = '/content/pima-indians-diabetes.data.csv'\n",
        "names = ['preg', 'plas', 'pres', 'skin', 'test', 'mass', 'pedi', 'age', 'class']\n",
        "dataframe = pd.read_csv(filename, names=names)\n",
        "array = dataframe.values\n",
        "X = array[:,0:8]\n",
        "Y = array[:,8]"
      ],
      "execution_count": 2,
      "outputs": []
    },
    {
      "cell_type": "code",
      "metadata": {
        "ExecuteTime": {
          "end_time": "2020-11-09T14:05:29.461935Z",
          "start_time": "2020-11-09T14:05:29.448759Z"
        },
        "id": "D5pHWvN9DPGT"
      },
      "source": [
        "X_train, X_test, y_train, y_test = train_test_split(X,Y, test_size = 0.3)"
      ],
      "execution_count": 3,
      "outputs": []
    },
    {
      "cell_type": "code",
      "metadata": {
        "ExecuteTime": {
          "end_time": "2020-11-09T14:05:31.774976Z",
          "start_time": "2020-11-09T14:05:31.763083Z"
        },
        "colab": {
          "base_uri": "https://localhost:8080/"
        },
        "id": "eD5H2CSxDPGU",
        "outputId": "0eaed5dd-bb48-4ae4-e70d-0a199c178c20"
      },
      "source": [
        "X_train.shape, y_train.shape, X_test.shape, y_test.shape"
      ],
      "execution_count": 4,
      "outputs": [
        {
          "output_type": "execute_result",
          "data": {
            "text/plain": [
              "((537, 8), (537,), (231, 8), (231,))"
            ]
          },
          "metadata": {
            "tags": []
          },
          "execution_count": 4
        }
      ]
    },
    {
      "cell_type": "markdown",
      "metadata": {
        "id": "KKIwtz4EDPGW"
      },
      "source": [
        "### Grid Search CV"
      ]
    },
    {
      "cell_type": "code",
      "metadata": {
        "ExecuteTime": {
          "end_time": "2020-11-10T03:17:48.881199Z",
          "start_time": "2020-11-09T14:07:47.934017Z"
        },
        "id": "lh3ywRgVDPGX",
        "colab": {
          "base_uri": "https://localhost:8080/"
        },
        "outputId": "7db919e1-72ec-4122-b54c-9d9807cd7793"
      },
      "source": [
        "clf = SVC()\n",
        "param_grid = [{'kernel':['rbf'],'gamma':[50,5,10,0.5],'C':[15,14,13,12,11,10,0.1,0.001] }]\n",
        "gsv = GridSearchCV(clf,param_grid,cv=10)\n",
        "gsv.fit(X_train,y_train)"
      ],
      "execution_count": 5,
      "outputs": [
        {
          "output_type": "execute_result",
          "data": {
            "text/plain": [
              "GridSearchCV(cv=10, error_score=nan,\n",
              "             estimator=SVC(C=1.0, break_ties=False, cache_size=200,\n",
              "                           class_weight=None, coef0=0.0,\n",
              "                           decision_function_shape='ovr', degree=3,\n",
              "                           gamma='scale', kernel='rbf', max_iter=-1,\n",
              "                           probability=False, random_state=None, shrinking=True,\n",
              "                           tol=0.001, verbose=False),\n",
              "             iid='deprecated', n_jobs=None,\n",
              "             param_grid=[{'C': [15, 14, 13, 12, 11, 10, 0.1, 0.001],\n",
              "                          'gamma': [50, 5, 10, 0.5], 'kernel': ['rbf']}],\n",
              "             pre_dispatch='2*n_jobs', refit=True, return_train_score=False,\n",
              "             scoring=None, verbose=0)"
            ]
          },
          "metadata": {
            "tags": []
          },
          "execution_count": 5
        }
      ]
    },
    {
      "cell_type": "code",
      "metadata": {
        "ExecuteTime": {
          "end_time": "2020-11-09T14:05:55.302013Z",
          "start_time": "2020-11-09T14:05:55.289558Z"
        },
        "id": "2Rvkx8g2DPGY",
        "colab": {
          "base_uri": "https://localhost:8080/"
        },
        "outputId": "11d7284d-8451-4353-9630-a30a414536a4"
      },
      "source": [
        "gsv.best_params_ , gsv.best_score_ "
      ],
      "execution_count": 6,
      "outputs": [
        {
          "output_type": "execute_result",
          "data": {
            "text/plain": [
              "({'C': 15, 'gamma': 50, 'kernel': 'rbf'}, 0.670440251572327)"
            ]
          },
          "metadata": {
            "tags": []
          },
          "execution_count": 6
        }
      ]
    },
    {
      "cell_type": "code",
      "metadata": {
        "ExecuteTime": {
          "end_time": "2020-11-09T14:06:00.240488Z",
          "start_time": "2020-11-09T14:06:00.157474Z"
        },
        "id": "MONtSprJDPGa",
        "colab": {
          "base_uri": "https://localhost:8080/"
        },
        "outputId": "03dbee45-e8a1-493c-ba68-7d2892c31c57"
      },
      "source": [
        "clf = SVC(C= 15, gamma = 50)\n",
        "clf.fit(X_train , y_train)\n",
        "y_pred = clf.predict(X_test)\n",
        "acc = accuracy_score(y_test, y_pred) * 100\n",
        "print(\"Accuracy =\", acc)\n",
        "confusion_matrix(y_test, y_pred)"
      ],
      "execution_count": 7,
      "outputs": [
        {
          "output_type": "stream",
          "text": [
            "Accuracy = 60.60606060606061\n"
          ],
          "name": "stdout"
        },
        {
          "output_type": "execute_result",
          "data": {
            "text/plain": [
              "array([[140,   0],\n",
              "       [ 91,   0]])"
            ]
          },
          "metadata": {
            "tags": []
          },
          "execution_count": 7
        }
      ]
    },
    {
      "cell_type": "code",
      "metadata": {
        "id": "rk4MFIdmDPGc",
        "colab": {
          "base_uri": "https://localhost:8080/"
        },
        "outputId": "4553fa7a-f578-4bf6-ce60-e5949ad2b4c3"
      },
      "source": [
        "clf = SVC(kernel= \"linear\") \n",
        "clf.fit(X_train , y_train)\n",
        "y_pred = clf.predict(X_test)\n",
        "acc = accuracy_score(y_test, y_pred) * 100\n",
        "print(\"Accuracy =\", acc)\n",
        "confusion_matrix(y_test, y_pred)    "
      ],
      "execution_count": 8,
      "outputs": [
        {
          "output_type": "stream",
          "text": [
            "Accuracy = 77.92207792207793\n"
          ],
          "name": "stdout"
        },
        {
          "output_type": "execute_result",
          "data": {
            "text/plain": [
              "array([[130,  10],\n",
              "       [ 41,  50]])"
            ]
          },
          "metadata": {
            "tags": []
          },
          "execution_count": 8
        }
      ]
    },
    {
      "cell_type": "code",
      "metadata": {
        "colab": {
          "base_uri": "https://localhost:8080/"
        },
        "id": "GRZxJaA1k_34",
        "outputId": "579eb2f0-920a-4ee8-faac-76526f262fe5"
      },
      "source": [
        "clf = SVC(kernel= \"poly\") \n",
        "clf.fit(X_train , y_train)\n",
        "y_pred = clf.predict(X_test)\n",
        "acc = accuracy_score(y_test, y_pred) * 100\n",
        "print(\"Accuracy =\", acc)\n",
        "confusion_matrix(y_test, y_pred) "
      ],
      "execution_count": 9,
      "outputs": [
        {
          "output_type": "stream",
          "text": [
            "Accuracy = 72.72727272727273\n"
          ],
          "name": "stdout"
        },
        {
          "output_type": "execute_result",
          "data": {
            "text/plain": [
              "array([[134,   6],\n",
              "       [ 57,  34]])"
            ]
          },
          "metadata": {
            "tags": []
          },
          "execution_count": 9
        }
      ]
    },
    {
      "cell_type": "markdown",
      "metadata": {
        "id": "CHoI6qkigeBL"
      },
      "source": [
        ""
      ]
    },
    {
      "cell_type": "markdown",
      "metadata": {
        "id": "IUEXrWq4ga8x"
      },
      "source": [
        ""
      ]
    }
  ]
}